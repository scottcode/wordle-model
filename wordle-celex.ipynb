{
 "cells": [
  {
   "cell_type": "markdown",
   "id": "afe943ea-8d70-4d1a-ad97-5131b031f821",
   "metadata": {},
   "source": [
    "ENGLISH FREQUENCY, WORDFORMS\n",
    "\n",
    "The efw.cd file contains the following fields:\n",
    "\n",
    "1.    IdNum\n",
    "2.    Word\n",
    "3.    IdNumLemma\n",
    "4.    Cob\n",
    "5.    CobDev\n",
    "6.    CobMln\n",
    "7.    CobLog\n",
    "8.    CobW\n",
    "9.    CobWMln\n",
    "10.   CobWLog\n",
    "11.   CobS\n",
    "12.   CobSMln\n",
    "13.   CobSLog\n"
   ]
  },
  {
   "cell_type": "code",
   "execution_count": null,
   "id": "66f8f9e6-7ea7-425e-9509-62fcae9f75dd",
   "metadata": {},
   "outputs": [],
   "source": [
    "import os, pathlib"
   ]
  },
  {
   "cell_type": "code",
   "execution_count": null,
   "id": "ed7224ec-f32f-41ed-b069-120721381bc7",
   "metadata": {},
   "outputs": [],
   "source": [
    "pth = pathlib.Path(\"/Users/scott/OneDrive/Documents/data/CELEX/original/ENGLISH/EFW/EFW.CD\")\n",
    "#/Users/scott/Library/CloudStorage/OneDrive-Personal/Documents/data/CELEX/original/ENGLISH/EFW/EFW.CD"
   ]
  },
  {
   "cell_type": "code",
   "execution_count": null,
   "id": "1f692bf9-aef4-4e33-8a8c-d3a056a2f29d",
   "metadata": {},
   "outputs": [],
   "source": [
    "fields = ['IdNum',\n",
    " 'Word',\n",
    " 'IdNumLemma',\n",
    " 'Cob',\n",
    " 'CobDev',\n",
    " 'CobMln',\n",
    " 'CobLog',\n",
    " 'CobW',\n",
    " 'CobWMln',\n",
    " 'CobWLog',\n",
    " 'CobS',\n",
    " 'CobSMln',\n",
    " 'CobSLog']"
   ]
  },
  {
   "cell_type": "code",
   "execution_count": null,
   "id": "45e75309-4d9d-4295-9e72-776acb7bbe77",
   "metadata": {},
   "outputs": [],
   "source": [
    "import pandas as pd"
   ]
  },
  {
   "cell_type": "code",
   "execution_count": null,
   "id": "5a079bf9-24dd-4857-8674-b6f7fffb8f1b",
   "metadata": {},
   "outputs": [],
   "source": [
    "df= pd.read_csv(pth, sep='\\\\', header=None, names=fields)"
   ]
  },
  {
   "cell_type": "code",
   "execution_count": null,
   "id": "08705e57-6250-49a8-a3e5-b5e5b9385ab2",
   "metadata": {},
   "outputs": [],
   "source": [
    "df.info()"
   ]
  },
  {
   "cell_type": "code",
   "execution_count": null,
   "id": "7a2ba803-bb61-448a-b9a7-8e2aef430f68",
   "metadata": {},
   "outputs": [],
   "source": [
    "df.head()"
   ]
  },
  {
   "cell_type": "code",
   "execution_count": null,
   "id": "f56b4569-7d64-4588-b61f-fb959102cc51",
   "metadata": {},
   "outputs": [],
   "source": [
    "df['Word'].str.len().hist()"
   ]
  },
  {
   "cell_type": "code",
   "execution_count": null,
   "id": "231690a0-6a4e-41ee-ae30-b44f59968020",
   "metadata": {},
   "outputs": [],
   "source": [
    "df5 = df.loc[df['Word'].str.len()==5]"
   ]
  },
  {
   "cell_type": "code",
   "execution_count": null,
   "id": "3f8578c6-9255-479d-bf05-998cb0fcde4a",
   "metadata": {},
   "outputs": [],
   "source": [
    "len(df5)"
   ]
  },
  {
   "cell_type": "code",
   "execution_count": null,
   "id": "0f951412-73bf-43a9-bef6-520014f8784c",
   "metadata": {},
   "outputs": [],
   "source": [
    "df5.head()"
   ]
  },
  {
   "cell_type": "code",
   "execution_count": null,
   "id": "d7bd5d74-6281-4737-a4e4-22db6513bf79",
   "metadata": {},
   "outputs": [],
   "source": [
    "for i in range(5):\n",
    "    df5[f'c{i}'] = df5['Word'].str[i]"
   ]
  },
  {
   "cell_type": "code",
   "execution_count": null,
   "id": "2bebed86-a544-4de0-a580-6fb71820bd1f",
   "metadata": {},
   "outputs": [],
   "source": [
    "df5\n"
   ]
  },
  {
   "cell_type": "code",
   "execution_count": null,
   "id": "fa41338c-0f41-486a-be01-80e3ea585723",
   "metadata": {},
   "outputs": [],
   "source": [
    "valcnts = {\n",
    "    i: df5[f'c{i}'].value_counts()\n",
    "    for i in range(5)\n",
    "}"
   ]
  },
  {
   "cell_type": "code",
   "execution_count": null,
   "id": "29a09e9c-23a6-457e-bc73-c0cb13b2b180",
   "metadata": {},
   "outputs": [],
   "source": [
    "prob={\n",
    "    i: valcnts[i]/valcnts[i].sum()\n",
    "    for i in range(5)\n",
    "}"
   ]
  },
  {
   "cell_type": "code",
   "execution_count": null,
   "id": "d21ab97a-b9da-44b6-83b9-e85f9eab91df",
   "metadata": {},
   "outputs": [],
   "source": [
    "prob[0].to_frame('c0p').rename_axis(index='c0').reset_index()"
   ]
  },
  {
   "cell_type": "code",
   "execution_count": null,
   "id": "ce6f031d-e37b-4921-bcad-62d8dfa37a88",
   "metadata": {},
   "outputs": [],
   "source": [
    "df5_2 = df5.copy()\n",
    "for i in range(5):\n",
    "    df5_2 = df5_2.merge(\n",
    "        prob[i].to_frame(f'c{i}p').rename_axis(index=f'c{i}').reset_index(),\n",
    "        on=f'c{i}',\n",
    "    )"
   ]
  },
  {
   "cell_type": "code",
   "execution_count": null,
   "id": "62e324a3-5984-4c4c-bf29-0d8f1550d163",
   "metadata": {},
   "outputs": [],
   "source": [
    "df5_2"
   ]
  },
  {
   "cell_type": "code",
   "execution_count": null,
   "id": "d60e2ad1-dc11-45a1-b1e6-33edcb204558",
   "metadata": {},
   "outputs": [],
   "source": [
    "df5_2['product'] = df5_2[[f'c{i}p' for i in range(5)]].product(axis=1)"
   ]
  },
  {
   "cell_type": "code",
   "execution_count": null,
   "id": "e034301a-189e-457b-b13f-faab94e99ce0",
   "metadata": {},
   "outputs": [],
   "source": [
    "df5_2.sort_values('product', ascending=False)"
   ]
  },
  {
   "cell_type": "code",
   "execution_count": null,
   "id": "b85449ae-26b3-47e9-812c-b6e2d564b832",
   "metadata": {},
   "outputs": [],
   "source": [
    "df5_2['product_CobWLog'] = df5_2['product'] * df5_2['CobWLog']"
   ]
  },
  {
   "cell_type": "code",
   "execution_count": null,
   "id": "67141dcd-2226-4c2a-a526-de1c5708155a",
   "metadata": {},
   "outputs": [],
   "source": [
    "(\n",
    "    df5_2\n",
    "    .loc[\n",
    "        ~df5_2['Word'].str.contains('s') &\n",
    "        ~df5_2['Word'].str.contains('a') &\n",
    "        ~df5_2['Word'].str.contains('o') &\n",
    "        df5_2['Word'].str.contains('r') &\n",
    "        df5_2['Word'].str.contains('e') &\n",
    "        df5_2['Word'].str.contains('c') &\n",
    "        (df5_2['Word'].str[2] !='r') &\n",
    "        (df5_2['Word'].str[3] !='e') &\n",
    "        ~df5_2['Word'].str.contains('p') &\n",
    "        ~df5_2['Word'].str.contains('i') &\n",
    "        (df5_2['Word'].str[1] !='r') &\n",
    "        (df5_2['Word'].str[3] !='c') &\n",
    "        (df5_2['Word'].str[4] !='e') &\n",
    "        (df5_2['Word'].str[0] =='c') &\n",
    "        (df5_2['Word'].str[0] =='l') &\n",
    "        (df5_2['Word'].str[0] =='e') &\n",
    "        (df5_2['Word'].str[4] !='r') \n",
    "    ]\n",
    "    .sort_values('product_CobWLog', ascending=False)\n",
    ")"
   ]
  },
  {
   "cell_type": "code",
   "execution_count": null,
   "id": "95aa54dc-55be-46d9-858c-c77aaa9ba886",
   "metadata": {},
   "outputs": [],
   "source": [
    "df5_2.loc[df5_2['Word'].str.startswith('cler')]"
   ]
  },
  {
   "cell_type": "code",
   "execution_count": null,
   "id": "6724be3d-7a1f-40e3-8e9b-ce63f9449a58",
   "metadata": {},
   "outputs": [],
   "source": []
  }
 ],
 "metadata": {
  "kernelspec": {
   "display_name": "NLP",
   "language": "python",
   "name": "nlp"
  },
  "language_info": {
   "codemirror_mode": {
    "name": "ipython",
    "version": 3
   },
   "file_extension": ".py",
   "mimetype": "text/x-python",
   "name": "python",
   "nbconvert_exporter": "python",
   "pygments_lexer": "ipython3",
   "version": "3.9.13"
  }
 },
 "nbformat": 4,
 "nbformat_minor": 5
}
